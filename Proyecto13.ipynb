{
  "nbformat": 4,
  "nbformat_minor": 0,
  "metadata": {
    "colab": {
      "provenance": []
    },
    "kernelspec": {
      "name": "python3",
      "display_name": "Python 3"
    },
    "language_info": {
      "name": "python"
    }
  },
  "cells": [
    {
      "cell_type": "markdown",
      "source": [
        "13 - Los empleados de un departamento de tu empresa recibirán una bonificación del 10% de su salario debido a un excelente rendimiento del equipo. El departamento de finanzas ha solicitado tu ayuda para verificar las consecuencias financieras de esta bonificación en los recursos. Se te ha enviado una lista con los salarios que recibirán la bonificación: [1172, 1644, 2617, 5130, 5532, 6341, 6650, 7238, 7685, 7782, 7903]. La bonificación de cada empleado no puede ser inferior a 200. En el código, convierte cada uno de los salarios en claves de un diccionario y la bonificación de cada salario en el valor correspondiente. Luego, informa el gasto total en bonificaciones, cuántos empleados recibieron la bonificación mínima y cuál fue el valor más alto de la bonificación proporcionada."
      ],
      "metadata": {
        "id": "_w6JJqeFfl-Z"
      }
    },
    {
      "cell_type": "code",
      "source": [
        "# Definición de la lista de salarios\n",
        "salarios = [1172, 1644, 2617, 5130, 5532, 6341, 6650, 7238, 7685, 7782, 7903]\n",
        "\n",
        "# Crear el diccionario con bonificaciones (10% del salario o 200 como mínimo)\n",
        "bonificaciones = {}\n",
        "for salario in salarios:\n",
        "    bono = salario * 0.1\n",
        "    if bono < 200:\n",
        "        bono = 200\n",
        "    bonificaciones[salario] = bono\n",
        "\n",
        "# Calculo del gasto total en bonificaciones\n",
        "gasto_total = sum(bonificaciones.values())\n",
        "\n",
        "# Cálculo de empleados con bonificación mínima\n",
        "empleados_bono_minimo = sum(1 for bono in bonificaciones.values() if bono ==200)\n",
        "\n",
        "# Determinación del valor más alto de bonificación\n",
        "bono_maximo = max(bonificaciones.values())\n",
        "\n",
        "# Imprimir resultados\n",
        "print(f\"Gasto total en bonificaciones: $ {gasto_total:.2f}\")\n",
        "print(f\"Empleados con bonificación mínima: {empleados_bono_minimo}\")\n",
        "print(f\"Valor más alto de bonificación: $ {bono_maximo:.2f}\")"
      ],
      "metadata": {
        "colab": {
          "base_uri": "https://localhost:8080/"
        },
        "id": "P_wSNovVfmqH",
        "outputId": "f3bee348-0140-4c0a-a23a-0666476c395b"
      },
      "execution_count": 1,
      "outputs": [
        {
          "output_type": "stream",
          "name": "stdout",
          "text": [
            "Gasto total en bonificaciones: $ 6087.80\n",
            "Empleados con bonificación mínima: 2\n",
            "Valor más alto de bonificación: $ 790.30\n"
          ]
        }
      ]
    }
  ]
}